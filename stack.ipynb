{
 "cells": [
  {
   "cell_type": "code",
   "execution_count": 1,
   "id": "101adff6-369a-4d64-b002-550579477495",
   "metadata": {},
   "outputs": [
    {
     "name": "stdin",
     "output_type": "stream",
     "text": [
      " 11\n",
      " 1 a\n",
      " 1 b\n",
      " 1 c\n",
      " 3 1\n"
     ]
    },
    {
     "name": "stdout",
     "output_type": "stream",
     "text": [
      "a\n"
     ]
    },
    {
     "name": "stdin",
     "output_type": "stream",
     "text": [
      " 3 2\n"
     ]
    },
    {
     "name": "stdout",
     "output_type": "stream",
     "text": [
      "b\n"
     ]
    },
    {
     "name": "stdin",
     "output_type": "stream",
     "text": [
      " 3 3\n"
     ]
    },
    {
     "name": "stdout",
     "output_type": "stream",
     "text": [
      "c\n"
     ]
    },
    {
     "name": "stdin",
     "output_type": "stream",
     "text": [
      " 2\n"
     ]
    },
    {
     "name": "stdout",
     "output_type": "stream",
     "text": [
      "c\n"
     ]
    },
    {
     "name": "stdin",
     "output_type": "stream",
     "text": [
      " 1 d\n",
      " 3 1\n"
     ]
    },
    {
     "name": "stdout",
     "output_type": "stream",
     "text": [
      "a\n"
     ]
    },
    {
     "name": "stdin",
     "output_type": "stream",
     "text": [
      " 3 2\n"
     ]
    },
    {
     "name": "stdout",
     "output_type": "stream",
     "text": [
      "b\n"
     ]
    },
    {
     "name": "stdin",
     "output_type": "stream",
     "text": [
      " 3 3\n"
     ]
    },
    {
     "name": "stdout",
     "output_type": "stream",
     "text": [
      "d\n"
     ]
    }
   ],
   "source": [
    "#!/usr/bin/env python3\n",
    "\n",
    "# ================= 代码实现开始 =================\n",
    "\n",
    "N = 100005\n",
    "\n",
    "# Stack：栈\n",
    "# top：栈顶位置\n",
    "Stack = ['' for i in range(N)]\n",
    "top = 0\n",
    "\n",
    "# 压入栈顶\n",
    "# name：被压入的人的姓名\n",
    "def push(name):\n",
    "    global top\n",
    "    ''' 请在这里设计你的算法 '''\n",
    "    Stack[top]=name\n",
    "    top=top+1\n",
    "\n",
    "# 弹出栈顶\n",
    "# 返回值：被弹出人的姓名\n",
    "def pop():\n",
    "    global top\n",
    "    ''' 请在这里设计你的算法 '''\n",
    "    #Stack[top-1]=''\n",
    "    top=top-1\n",
    "    return Stack[top]\n",
    "\n",
    "# 询问栈中某个位置上的人的姓名（栈底位置为1，向栈顶方向的位置依次递增）\n",
    "# pos：询问的位置\n",
    "# 返回值：pos位置上人的姓名\n",
    "def query(pos):\n",
    "    ''' 请在这里设计你的算法 '''\n",
    "    return Stack[pos-1]\n",
    "\n",
    "# ================= 代码实现结束 =================\n",
    "\n",
    "n = int(input())\n",
    "for _ in range(n):\n",
    "    tmp = input().split(' ')\n",
    "    op = int(tmp[0])\n",
    "    if op == 1:\n",
    "        name = tmp[1].strip('\\n')\n",
    "        push(name)\n",
    "    elif op == 2:\n",
    "        print(pop())\n",
    "    else:\n",
    "        pos = int(tmp[1])\n",
    "        print(query(pos))\n"
   ]
  },
  {
   "cell_type": "code",
   "execution_count": null,
   "id": "73154076-e9f5-4225-ba5b-41ed99d98018",
   "metadata": {},
   "outputs": [],
   "source": []
  }
 ],
 "metadata": {
  "kernelspec": {
   "display_name": "Python 3 (ipykernel)",
   "language": "python",
   "name": "python3"
  },
  "language_info": {
   "codemirror_mode": {
    "name": "ipython",
    "version": 3
   },
   "file_extension": ".py",
   "mimetype": "text/x-python",
   "name": "python",
   "nbconvert_exporter": "python",
   "pygments_lexer": "ipython3",
   "version": "3.11.5"
  }
 },
 "nbformat": 4,
 "nbformat_minor": 5
}
