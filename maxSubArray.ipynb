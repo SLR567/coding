{
 "cells": [
  {
   "cell_type": "markdown",
   "metadata": {},
   "source": [
    "# 最大子数组和"
   ]
  },
  {
   "cell_type": "markdown",
   "metadata": {},
   "source": [
    "给你一个整数数组 `nums` ，请你找出一个具有最大和的连续子数组（子数组最少包含一个元素），返回其最大和。"
   ]
  },
  {
   "cell_type": "markdown",
   "metadata": {},
   "source": [
    "`子数组` 是数组中的一个连续部分。"
   ]
  },
  {
   "cell_type": "markdown",
   "metadata": {},
   "source": [
    "### 示例 1：\n",
    "\n",
    "- 输入：nums = [-2,1,-3,4,-1,2,1,-5,4]\n",
    "- 输出：6\n",
    "- 解释：连续子数组 [4,-1,2,1] 的和最大，为 6 。\n",
    "\n",
    "### 示例 2：\n",
    "\n",
    "- 输入：nums = [1]\n",
    "- 输出：1\n",
    "\n",
    "### 示例 3：\n",
    "\n",
    "- 输入：nums = [5,4,-1,7,8]\n",
    "- 输出：23"
   ]
  },
  {
   "cell_type": "markdown",
   "metadata": {},
   "source": [
    "### 提示：\n",
    "\n",
    "- 1 <= nums.length <= 105\n",
    "- -104 <= nums[i] <= 104"
   ]
  },
  {
   "cell_type": "markdown",
   "metadata": {},
   "source": [
    "### 进阶：\n",
    "如果你已经实现复杂度为 O(n) 的解法，尝试使用更为精妙的 分治法 求解。"
   ]
  },
  {
   "cell_type": "code",
   "execution_count": 1,
   "metadata": {},
   "outputs": [],
   "source": [
    "class Solution(object):\n",
    "    def maxSubArray(self, nums):\n",
    "        \"\"\"\n",
    "        :type nums: List[int]\n",
    "        :rtype: int\n",
    "        \"\"\"\n",
    "        #动态规划\n",
    "        #dp[i]表示：以i结尾的数中，最大的字数组和为dp[i]\n",
    "        #状态转移方程：\n",
    "        n=len(nums)\n",
    "        if n==1:\n",
    "            return nums[0]\n",
    "        dp=[0]*n\n",
    "        dp[0]=nums[0]\n",
    "        for i in range(1,n):\n",
    "            if dp[i-1]>0:\n",
    "                dp[i]=dp[i-1]+nums[i]\n",
    "                # 如果 dp[i - 1] > 0，那么可以把 nums[i] 直接接在 dp[i - 1] 表示的那个数组的后面，\n",
    "                # 得到和更大的连续子数组\n",
    "\n",
    "            else:\n",
    "                dp[i]=nums[i]\n",
    "                 # 如果 dp[i - 1] <= 0，那么 nums[i] 加上前面的数 dp[i - 1] 以后值不会变大。\n",
    "                # 于是 dp[i] 「另起炉灶」，此时单独的一个 nums[i] 的值，就是 dp[i]。\n",
    "\n",
    "        return max(dp)"
   ]
  }
 ],
 "metadata": {
  "kernelspec": {
   "display_name": "Python 3",
   "language": "python",
   "name": "python3"
  },
  "language_info": {
   "codemirror_mode": {
    "name": "ipython",
    "version": 3
   },
   "file_extension": ".py",
   "mimetype": "text/x-python",
   "name": "python",
   "nbconvert_exporter": "python",
   "pygments_lexer": "ipython3",
   "version": "3.7.4"
  }
 },
 "nbformat": 4,
 "nbformat_minor": 2
}
