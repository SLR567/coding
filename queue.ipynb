{
 "cells": [
  {
   "cell_type": "code",
   "execution_count": 1,
   "id": "6388b675-b2c7-454d-806c-1e00615d0f37",
   "metadata": {},
   "outputs": [
    {
     "name": "stdin",
     "output_type": "stream",
     "text": [
      " 11\n",
      " 1 a\n",
      " 1 b\n",
      " 1 c\n",
      " 3 1\n"
     ]
    },
    {
     "name": "stdout",
     "output_type": "stream",
     "text": [
      "a\n"
     ]
    },
    {
     "name": "stdin",
     "output_type": "stream",
     "text": [
      " 3 2\n"
     ]
    },
    {
     "name": "stdout",
     "output_type": "stream",
     "text": [
      "b\n"
     ]
    },
    {
     "name": "stdin",
     "output_type": "stream",
     "text": [
      " 3 3\n"
     ]
    },
    {
     "name": "stdout",
     "output_type": "stream",
     "text": [
      "c\n"
     ]
    },
    {
     "name": "stdin",
     "output_type": "stream",
     "text": [
      " 2\n"
     ]
    },
    {
     "name": "stdout",
     "output_type": "stream",
     "text": [
      "a\n"
     ]
    },
    {
     "name": "stdin",
     "output_type": "stream",
     "text": [
      " 1 d\n",
      " 3 1\n"
     ]
    },
    {
     "name": "stdout",
     "output_type": "stream",
     "text": [
      "b\n"
     ]
    },
    {
     "name": "stdin",
     "output_type": "stream",
     "text": [
      " 3 2\n"
     ]
    },
    {
     "name": "stdout",
     "output_type": "stream",
     "text": [
      "c\n"
     ]
    },
    {
     "name": "stdin",
     "output_type": "stream",
     "text": [
      " 3 3\n"
     ]
    },
    {
     "name": "stdout",
     "output_type": "stream",
     "text": [
      "d\n"
     ]
    }
   ],
   "source": [
    "#!/usr/bin/env python3\n",
    "\n",
    "# ================= 代码实现开始 =================\n",
    "\n",
    "N = 100005\n",
    "\n",
    "# Queue：队列\n",
    "# head：队首位置\n",
    "# tail：队尾位置的后一位\n",
    "Queue = ['' for i in range(N)]\n",
    "head, tail = 0, 0\n",
    "\n",
    "# 队尾入队\n",
    "# name：入队人的姓名\n",
    "def enqueue(name):\n",
    "    global tail\n",
    "    ''' 请在这里设计你的算法 '''\n",
    "    Queue[tail]=name\n",
    "    tail=tail+1\n",
    "\n",
    "# 队首出队\n",
    "# 返回值：队首的姓名\n",
    "def dequeue():\n",
    "    global head\n",
    "    ''' 请在这里设计你的算法 '''\n",
    "    head=head+1\n",
    "    return Queue[head-1]\n",
    "\n",
    "# 询问队列中某个位置上的人的姓名（队首位置为1，往后位置依次递增）\n",
    "# pos：询问的位置\n",
    "# 返回值：pos位置上人的姓名\n",
    "def query(pos):\n",
    "    global head\n",
    "    ''' 请在这里设计你的算法 '''\n",
    "    return Queue[head+pos-1]\n",
    "\n",
    "# ================= 代码实现结束 =================\n",
    "\n",
    "n = int(input())\n",
    "for _ in range(n):\n",
    "    tmp = input().split(' ')\n",
    "    op = int(tmp[0])\n",
    "    if op == 1:\n",
    "        name = tmp[1].strip('\\n')\n",
    "        enqueue(name)\n",
    "    elif op == 2:\n",
    "        print(dequeue())\n",
    "    else:\n",
    "        pos = int(tmp[1])\n",
    "        print(query(pos))\n"
   ]
  }
 ],
 "metadata": {
  "kernelspec": {
   "display_name": "Python 3 (ipykernel)",
   "language": "python",
   "name": "python3"
  },
  "language_info": {
   "codemirror_mode": {
    "name": "ipython",
    "version": 3
   },
   "file_extension": ".py",
   "mimetype": "text/x-python",
   "name": "python",
   "nbconvert_exporter": "python",
   "pygments_lexer": "ipython3",
   "version": "3.11.5"
  }
 },
 "nbformat": 4,
 "nbformat_minor": 5
}
