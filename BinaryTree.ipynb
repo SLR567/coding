{
 "cells": [
  {
   "cell_type": "code",
   "execution_count": 1,
   "id": "758a175a-fdf1-42b4-9474-f03160a7a4dd",
   "metadata": {},
   "outputs": [
    {
     "name": "stdin",
     "output_type": "stream",
     "text": [
      " 10\n",
      " 2 6 9 3 5 7 10 8 4 1\n"
     ]
    },
    {
     "name": "stdout",
     "output_type": "stream",
     "text": [
      "2 1 6 3 5 4 9 7 8 10\n",
      "1 4 5 3 8 7 10 9 6 2\n"
     ]
    }
   ],
   "source": [
    "#!/usr/bin/env python3\n",
    "\n",
    "# ================= 代码实现开始 =================\n",
    "\n",
    "''' 请在这里定义你需要的全局变量 '''\n",
    "class node():\n",
    "    def __init__(self,data):\n",
    "        self.val=data\n",
    "        self.l=None\n",
    "        self.r=None\n",
    "#前序遍历\n",
    "\n",
    "def dlr(r):\n",
    "    if r==None:\n",
    "        return\n",
    "    ans1.append(r.val)\n",
    "    dlr(r.l)\n",
    "    dlr(r.r)\n",
    "\n",
    "\n",
    "    \n",
    "#后序遍历\n",
    "def lrd(r):\n",
    "    if r==None:\n",
    "        return\n",
    "    lrd(r.l)\n",
    "    lrd(r.r)\n",
    "    ans2.append(r.val)\n",
    "      \n",
    "\n",
    "\n",
    "def addNode(ddata,nnode):\n",
    "    if ddata.val<nnode.val:\n",
    "        if nnode.l==None:\n",
    "            nnode.l=ddata\n",
    "        else:\n",
    "            addNode(ddata,nnode.l)\n",
    "    else:\n",
    "        if nnode.r==None:\n",
    "            nnode.r=ddata\n",
    "        else:\n",
    "            addNode(ddata,nnode.r)\n",
    "    \n",
    "# 给定一个1到n的排列，依次插入到二叉树中，返回前序遍历和后序遍历\n",
    "# n：如题意\n",
    "# sequence：给定的排列，大小为n\n",
    "# 返回值：将要输出的元素依次加入到返回值中\n",
    "def getAnswer(n, sequence):\n",
    "    global root\n",
    "    ''' 请在这里设计你的算法 '''\n",
    "    for i in range(n):\n",
    "        data=sequence[i]\n",
    "        nn=node(data)\n",
    "        if root is not None:\n",
    "            addNode(nn,root)\n",
    "        else:\n",
    "            root=nn\n",
    "    dlr(root)\n",
    "    lrd(root)\n",
    "    return ans1+ans2\n",
    "    \n",
    "\n",
    "      \n",
    "    \n",
    "    \n",
    "\n",
    "# ================= 代码实现结束 =================\n",
    "\n",
    "n = int(input())\n",
    "sequence = list(map(int, input().split(' ')))\n",
    "root=None\n",
    "ans1=[]\n",
    "ans2=[]\n",
    "ans = getAnswer(n, sequence)\n",
    "print(' '.join(map(str, ans[0:n])))\n",
    "print(' '.join(map(str, ans[n:n+n])))"
   ]
  }
 ],
 "metadata": {
  "kernelspec": {
   "display_name": "Python 3 (ipykernel)",
   "language": "python",
   "name": "python3"
  },
  "language_info": {
   "codemirror_mode": {
    "name": "ipython",
    "version": 3
   },
   "file_extension": ".py",
   "mimetype": "text/x-python",
   "name": "python",
   "nbconvert_exporter": "python",
   "pygments_lexer": "ipython3",
   "version": "3.11.5"
  }
 },
 "nbformat": 4,
 "nbformat_minor": 5
}
